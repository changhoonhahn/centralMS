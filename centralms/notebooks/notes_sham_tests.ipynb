{
 "cells": [
  {
   "cell_type": "code",
   "execution_count": 37,
   "metadata": {},
   "outputs": [],
   "source": [
    "import numpy as np \n",
    "\n",
    "import env \n",
    "import catalog as Cat\n",
    "import sham_hack as SHAM\n",
    "import observables as Obvs\n",
    "\n",
    "import AbundanceMatching as AM"
   ]
  },
  {
   "cell_type": "code",
   "execution_count": 2,
   "metadata": {
    "collapsed": true
   },
   "outputs": [],
   "source": [
    "import matplotlib as mpl \n",
    "import matplotlib.pyplot as plt \n",
    "mpl.rcParams['text.usetex'] = True\n",
    "mpl.rcParams['font.family'] = 'serif'\n",
    "mpl.rcParams['axes.linewidth'] = 1.5\n",
    "mpl.rcParams['axes.xmargin'] = 1\n",
    "mpl.rcParams['xtick.labelsize'] = 'x-large'\n",
    "mpl.rcParams['xtick.major.size'] = 5\n",
    "mpl.rcParams['xtick.major.width'] = 1.5\n",
    "mpl.rcParams['ytick.labelsize'] = 'x-large'\n",
    "mpl.rcParams['ytick.major.size'] = 5\n",
    "mpl.rcParams['ytick.major.width'] = 1.5\n",
    "mpl.rcParams['legend.frameon'] = False\n",
    "%matplotlib inline"
   ]
  },
  {
   "cell_type": "code",
   "execution_count": 5,
   "metadata": {},
   "outputs": [],
   "source": [
    "subs = Cat.SubhaloHistory(sigma_smhm=0.2, smf_source='li-march', nsnap_ancestor=15)\n",
    "subcat = subs.Read()"
   ]
  },
  {
   "cell_type": "code",
   "execution_count": 7,
   "metadata": {},
   "outputs": [],
   "source": [
    "msham_z1 = subcat['snapshot15_m.star']\n",
    "mhalo_z1 = subcat['snapshot15_halo.m']\n",
    "mmax_z1 = subcat['snapshot15_m.max']"
   ]
  },
  {
   "cell_type": "code",
   "execution_count": 12,
   "metadata": {},
   "outputs": [
    {
     "name": "stdout",
     "output_type": "stream",
     "text": [
      "-999.0 14.8677968979\n"
     ]
    }
   ],
   "source": [
    "print mmax_z1.min(), mmax_z1.max()"
   ]
  },
  {
   "cell_type": "code",
   "execution_count": 9,
   "metadata": {},
   "outputs": [
    {
     "data": {
      "text/plain": [
       "(0.0, 0.5)"
      ]
     },
     "execution_count": 9,
     "metadata": {},
     "output_type": "execute_result"
    },
    {
     "data": {
      "image/png": "[encoded data removed]",
      "text/plain": [
       "<matplotlib.figure.Figure at 0x1807883190>"
      ]
     },
     "metadata": {},
     "output_type": "display_data"
    }
   ],
   "source": [
    "smhmr = Obvs.Smhmr()\n",
    "mmid, _, sig_logm, cnts = smhmr.Calculate(mmax_z1, msham_z1)"
   ]
  },
  {
   "cell_type": "code",
   "execution_count": 13,
   "metadata": {},
   "outputs": [
    {
     "data": {
      "text/plain": [
       "(0.0, 0.5)"
      ]
     },
     "execution_count": 13,
     "metadata": {},
     "output_type": "execute_result"
    },
    {
     "data": {
      "image/png": "[encoded data removed]",
      "text/plain": [
       "<matplotlib.figure.Figure at 0x18077bc5d0>"
      ]
     },
     "metadata": {},
     "output_type": "display_data"
    }
   ],
   "source": [
    "fig = plt.figure()\n",
    "sub = fig.add_subplot(111)\n",
    "sub.plot(mmid, sig_logm)\n",
    "sub.set_xlim([10., mmax_z1.max()])\n",
    "sub.set_ylim([0., 0.5])"
   ]
  },
  {
   "cell_type": "code",
   "execution_count": 120,
   "metadata": {},
   "outputs": [
    {
     "data": {
      "text/plain": [
       "(1e-05, 0.03162277660168379)"
      ]
     },
     "execution_count": 120,
     "metadata": {},
     "output_type": "execute_result"
    },
    {
     "data": {
      "image/png": "[encoded data removed]",
      "text/plain": [
       "<matplotlib.figure.Figure at 0x103bd1210>"
      ]
     },
     "metadata": {},
     "output_type": "display_data"
    }
   ],
   "source": [
    "fig = plt.figure()\n",
    "sub = fig.add_subplot(111)\n",
    "z = 1.\n",
    "MF = SHAM.SMFClass('li-march', z, 0.0, 0.7)\n",
    "sub.plot(np.linspace(6., 13., 20), ([MF.numden(mm) for mm in np.linspace(6., 13., 20)]), ls='--')\n",
    "sub.plot(np.linspace(6., 13., 20), ([MF.dndm(mm) for mm in np.linspace(6., 13., 20)]), ls=':')\n",
    "sub.set_xlim([6., 13.])\n",
    "sub.set_yscale('log')\n",
    "sub.set_ylim([10**-5., 10**-1.5])"
   ]
  },
  {
   "cell_type": "code",
   "execution_count": 147,
   "metadata": {},
   "outputs": [],
   "source": [
    "m_arr = np.linspace(6.0, 13.0, 50)\n",
    "af = AM.AbundanceFunction(m_arr, np.array([MF.dndm(mm) for mm in m_arr]), ext_range=(6., 13.))"
   ]
  },
  {
   "cell_type": "code",
   "execution_count": 148,
   "metadata": {},
   "outputs": [
    {
     "data": {
      "text/plain": [
       "(-0.5, 1.0)"
      ]
     },
     "execution_count": 148,
     "metadata": {},
     "output_type": "execute_result"
    },
    {
     "data": {
      "image/png": "[encoded data removed]",
      "text/plain": [
       "<matplotlib.figure.Figure at 0x1982d16810>"
      ]
     },
     "metadata": {},
     "output_type": "display_data"
    }
   ],
   "source": [
    "scatter = 0.2\n",
    "remainder = af.deconvolute(scatter, 20)\n",
    "x, nd = af.get_number_density_table()\n",
    "plt.plot(x, remainder/nd)\n",
    "plt.xlim([7., 13.])\n",
    "plt.ylim([-0.5, 1.])"
   ]
  },
  {
   "cell_type": "code",
   "execution_count": 152,
   "metadata": {},
   "outputs": [],
   "source": [
    "nd_halos = AM.calc_number_densities(mmax_z1[mmax_z1 > 10.], 250.)"
   ]
  },
  {
   "cell_type": "code",
   "execution_count": 126,
   "metadata": {},
   "outputs": [
    {
     "data": {
      "text/plain": [
       "(1e-06, 0.1)"
      ]
     },
     "execution_count": 126,
     "metadata": {},
     "output_type": "execute_result"
    },
    {
     "data": {
      "image/png": "[encoded data removed]",
      "text/plain": [
       "<matplotlib.figure.Figure at 0x1983dd1b90>"
      ]
     },
     "metadata": {},
     "output_type": "display_data"
    }
   ],
   "source": [
    "plt.scatter(mmax_z1[mmax_z1 > 10.], nd_halos)\n",
    "plt.xlim([10., 15.])\n",
    "plt.yscale('log')\n",
    "plt.ylim([10.**-6, 10.**-1.])"
   ]
  },
  {
   "cell_type": "code",
   "execution_count": 153,
   "metadata": {
    "collapsed": true
   },
   "outputs": [],
   "source": [
    "catalog = af.match(nd_halos)\n",
    "catalog_sc = af.match(nd_halos, 0.2)"
   ]
  },
  {
   "cell_type": "code",
   "execution_count": 154,
   "metadata": {},
   "outputs": [
    {
     "name": "stdout",
     "output_type": "stream",
     "text": [
      "[ 14.35084152  14.05118179  14.3607626   14.03025436  14.35955811\n",
      "  14.17448521  14.03647327  14.11604881  14.38211536  14.00261402\n",
      "  14.05526161  14.04278088  14.12377262  14.02290249  14.01126671\n",
      "  14.57240772  14.10684776  14.17766953  14.22412014  14.00106144\n",
      "  14.13287544  14.0567503   14.0436306   14.04491806  14.23825741\n",
      "  14.00123882  14.0616188   14.15246582  14.09374714  14.26855564\n",
      "  14.15946865  14.00401592  14.16307735  14.01695919  14.26920891\n",
      "  14.06487846  14.1334877   14.10947227  14.01413918  14.02991772\n",
      "  14.11845303  14.07001114  14.34871006  14.60692692  14.01047134\n",
      "  14.05678654  14.22324085  14.24587631  14.8677969   14.0218153\n",
      "  14.05629253  14.26641941  14.25381374  14.02118778  14.00643253\n",
      "  14.00216007]\n",
      "[ nan  nan  nan  nan  nan  nan  nan  nan  nan  nan  nan  nan  nan  nan  nan\n",
      "  nan  nan  nan  nan  nan  nan  nan  nan  nan  nan  nan  nan  nan  nan  nan\n",
      "  nan  nan  nan  nan  nan  nan  nan  nan  nan  nan  nan  nan  nan  nan  nan\n",
      "  nan  nan  nan  nan  nan  nan  nan  nan  nan  nan  nan]\n",
      "[ nan  nan  nan  nan  nan  nan  nan  nan  nan  nan  nan  nan  nan  nan  nan\n",
      "  nan  nan  nan  nan  nan  nan  nan  nan  nan  nan  nan  nan  nan  nan  nan\n",
      "  nan  nan  nan  nan  nan  nan  nan  nan  nan  nan  nan  nan  nan  nan  nan\n",
      "  nan  nan  nan  nan  nan  nan  nan  nan  nan  nan  nan]\n"
     ]
    }
   ],
   "source": [
    "mmaxx = mmax_z1[mmax_z1 > 10.]\n",
    "\n",
    "print mmaxx[mmaxx > 14.][:100]\n",
    "print catalog[mmaxx > 14.][:100]\n",
    "print catalog_sc[mmaxx > 14.][:100]"
   ]
  },
  {
   "cell_type": "code",
   "execution_count": null,
   "metadata": {
    "collapsed": true
   },
   "outputs": [],
   "source": []
  }
 ],
 "metadata": {
  "kernelspec": {
   "display_name": "Python 2",
   "language": "python",
   "name": "python2"
  },
  "language_info": {
   "codemirror_mode": {
    "name": "ipython",
    "version": 2
   },
   "file_extension": ".py",
   "mimetype": "text/x-python",
   "name": "python",
   "nbconvert_exporter": "python",
   "pygments_lexer": "ipython2",
   "version": "2.7.13"
  }
 },
 "nbformat": 4,
 "nbformat_minor": 2
}
