{
 "cells": [
  {
   "cell_type": "markdown",
   "metadata": {},
   "source": [
    "### Measurement uncertainties from the total SFR from the MPA-JHU catalog \n",
    "We're interested in quantifying the measurement uncertainty from repeat spectra in Brinchmann's SFR catalog"
   ]
  },
  {
   "cell_type": "code",
   "execution_count": 1,
   "metadata": {
    "collapsed": true
   },
   "outputs": [],
   "source": [
    "import numpy as np \n",
    "import scipy as sp \n",
    "\n",
    "import env\n",
    "import util as UT\n",
    "from ChangTools.fitstables import mrdfits"
   ]
  },
  {
   "cell_type": "code",
   "execution_count": 2,
   "metadata": {
    "collapsed": true
   },
   "outputs": [],
   "source": [
    "from pydl.pydlutils.spheregroup import spherematch"
   ]
  },
  {
   "cell_type": "code",
   "execution_count": 3,
   "metadata": {
    "collapsed": true
   },
   "outputs": [],
   "source": [
    "import matplotlib as mpl \n",
    "import matplotlib.pyplot as plt \n",
    "mpl.rcParams['text.usetex'] = True\n",
    "mpl.rcParams['font.family'] = 'serif'\n",
    "mpl.rcParams['axes.linewidth'] = 1.5\n",
    "mpl.rcParams['axes.xmargin'] = 1\n",
    "mpl.rcParams['xtick.labelsize'] = 'x-large'\n",
    "mpl.rcParams['xtick.major.size'] = 5\n",
    "mpl.rcParams['xtick.major.width'] = 1.5\n",
    "mpl.rcParams['ytick.labelsize'] = 'x-large'\n",
    "mpl.rcParams['ytick.major.size'] = 5\n",
    "mpl.rcParams['ytick.major.width'] = 1.5\n",
    "mpl.rcParams['legend.frameon'] = False\n",
    "%matplotlib inline"
   ]
  },
  {
   "cell_type": "markdown",
   "metadata": {},
   "source": [
    "Read in the total SFRs from https://wwwmpa.mpa-garching.mpg.de/SDSS/DR7/sfrs.html . These SFRs are derived from spectra but later aperture corrected using Salim et al.(2007)'s method. "
   ]
  },
  {
   "cell_type": "code",
   "execution_count": 4,
   "metadata": {
    "collapsed": true
   },
   "outputs": [],
   "source": [
    "# data with the galaxy information\n",
    "data_gals = mrdfits(UT.dat_dir()+'gal_info_dr7_v5_2.fit.gz')\n",
    "# data with the SFR information \n",
    "data_sfrs = mrdfits(UT.dat_dir()+'gal_totsfr_dr7_v5_2.fits.gz')\n",
    "\n",
    "if len(data_gals.ra) != len(data_sfrs.median):\n",
    "    raise ValueError(\"the data should have the same number of galaxies\")"
   ]
  },
  {
   "cell_type": "markdown",
   "metadata": {},
   "source": [
    "`spherematch` using 3'' for 10,000 galaxies. Otherwise laptop explodes."
   ]
  },
  {
   "cell_type": "code",
   "execution_count": 5,
   "metadata": {
    "collapsed": true
   },
   "outputs": [],
   "source": [
    "#ngal = len(data_gals.ra)\n",
    "ngal = 10000"
   ]
  },
  {
   "cell_type": "code",
   "execution_count": 6,
   "metadata": {
    "collapsed": true
   },
   "outputs": [],
   "source": [
    "matches = spherematch(data_gals.ra[:10000], data_gals.dec[:10000], \n",
    "                      data_gals.ra[:10000], data_gals.dec[:10000], \n",
    "                      0.000833333, maxmatch=0)"
   ]
  },
  {
   "cell_type": "code",
   "execution_count": 7,
   "metadata": {
    "collapsed": true
   },
   "outputs": [],
   "source": [
    "m0, m1, d_m = matches"
   ]
  },
  {
   "cell_type": "code",
   "execution_count": 8,
   "metadata": {
    "collapsed": true
   },
   "outputs": [],
   "source": [
    "n_matches = np.zeros(ngal)\n",
    "sfr_list = [[] for i in range(ngal)]\n",
    "\n",
    "for i in range(ngal): \n",
    "    ism = (i == m0)\n",
    "    n_matches[i] = np.sum(ism)\n",
    "    if n_matches[i] > 1:         \n",
    "        #print '#', data_gals.ra[i], data_gals.dec[i], data_sfrs.median[i]\n",
    "        sfr_list[i] = data_sfrs.median[m1[np.where(ism)]]\n",
    "        #for r,d,s in zip(data_gals.ra[m1[np.where(ism)]], data_gals.dec[m1[np.where(ism)]], data_sfrs.median[m1[np.where(ism)]]): \n",
    "        #    print r, d, s\n",
    "    #sfr_list[i] = data_sfrs.median[:10000][ism]"
   ]
  },
  {
   "cell_type": "code",
   "execution_count": 9,
   "metadata": {},
   "outputs": [
    {
     "name": "stdout",
     "output_type": "stream",
     "text": [
      "[-0.46492234 -0.51970792]\n",
      "-0.492315 0.0273928\n",
      "[ 0.25182927  0.17580664]\n",
      "0.213818 0.0380113\n",
      "[-0.71020395 -0.64012742]\n",
      "-0.675166 0.0350383\n",
      "[-99. -99.]\n",
      "-99.0 0.0\n",
      "[-0.32268193 -0.12419786]\n",
      "-0.22344 0.099242\n"
     ]
    }
   ],
   "source": [
    "for i in np.where(n_matches > 1)[0][:5]: \n",
    "    print sfr_list[i] \n",
    "    print np.mean(sfr_list[i]), np.std(sfr_list[i])"
   ]
  },
  {
   "cell_type": "code",
   "execution_count": 10,
   "metadata": {},
   "outputs": [
    {
     "data": {
      "image/png": "[encoded data removed]",
      "text/plain": [
       "<matplotlib.figure.Figure at 0x10f0d08d0>"
      ]
     },
     "metadata": {},
     "output_type": "display_data"
    }
   ],
   "source": [
    "fig = plt.figure()\n",
    "sub = fig.add_subplot(111)\n",
    "sigs = []\n",
    "for i in np.where(n_matches > 1)[0]: \n",
    "    if -99. in sfr_list[i]:\n",
    "        continue\n",
    "    sub.scatter([np.mean(sfr_list[i])], [np.std(sfr_list[i], ddof=1)], c='k', s=2)\n",
    "    sigs.append(np.std(sfr_list[i], ddof=1))\n",
    "sub.set_xlim([-3., 3.])\n",
    "sub.set_xlabel('log SFR', fontsize=25)\n",
    "sub.set_ylim([0., 0.6])\n",
    "sub.set_ylabel('$\\sigma_\\mathrm{log\\,SFR}$', fontsize=25)\n",
    "plt.show()"
   ]
  },
  {
   "cell_type": "code",
   "execution_count": 11,
   "metadata": {},
   "outputs": [
    {
     "data": {
      "text/plain": [
       "<matplotlib.text.Text at 0x10f0d0850>"
      ]
     },
     "execution_count": 11,
     "metadata": {},
     "output_type": "execute_result"
    },
    {
     "data": {
      "image/png": "[encoded data removed]",
      "text/plain": [
       "<matplotlib.figure.Figure at 0x10ecc0e10>"
      ]
     },
     "metadata": {},
     "output_type": "display_data"
    }
   ],
   "source": [
    "plt.hist(np.array(sigs), bins=40, range=[0.0, 0.6], normed=True, histtype='step')\n",
    "plt.xlim([0., 0.6])\n",
    "plt.xlabel('$\\sigma_\\mathrm{log\\,SFR}$', fontsize=25)"
   ]
  },
  {
   "cell_type": "code",
   "execution_count": null,
   "metadata": {
    "collapsed": true
   },
   "outputs": [],
   "source": []
  }
 ],
 "metadata": {
  "kernelspec": {
   "display_name": "Python 2",
   "language": "python",
   "name": "python2"
  },
  "language_info": {
   "codemirror_mode": {
    "name": "ipython",
    "version": 2
   },
   "file_extension": ".py",
   "mimetype": "text/x-python",
   "name": "python",
   "nbconvert_exporter": "python",
   "pygments_lexer": "ipython2",
   "version": "2.7.13"
  }
 },
 "nbformat": 4,
 "nbformat_minor": 2
}
