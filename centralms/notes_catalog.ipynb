{
 "cells": [
  {
   "cell_type": "markdown",
   "metadata": {},
   "source": [
    "# notebook accompanying catalog.py\n",
    "- Illustrates how to generate new subhalo accretion history catalogs"
   ]
  },
  {
   "cell_type": "code",
   "execution_count": 1,
   "metadata": {
    "collapsed": true
   },
   "outputs": [],
   "source": [
    "import numpy as np \n",
    "import catalog as Cat\n",
    "\n",
    "import matplotlib.pyplot as plt\n",
    "from ChangTools.plotting import prettycolors"
   ]
  },
  {
   "cell_type": "markdown",
   "metadata": {},
   "source": [
    "# generate new subhalo and central subhalo catalogs"
   ]
  },
  {
   "cell_type": "code",
   "execution_count": 6,
   "metadata": {
    "collapsed": true
   },
   "outputs": [],
   "source": [
    "sig = 0.0\n",
    "smf = 'li-march'\n",
    "nsnap0 = 20"
   ]
  },
  {
   "cell_type": "code",
   "execution_count": 2,
   "metadata": {
    "collapsed": false
   },
   "outputs": [],
   "source": [
    "subhist = Cat.SubhaloHistory(sigma_smhm=0., smf_source='li-march', nsnap_ancestor=20)"
   ]
  },
  {
   "cell_type": "code",
   "execution_count": 4,
   "metadata": {
    "collapsed": false
   },
   "outputs": [
    {
     "name": "stdout",
     "output_type": "stream",
     "text": [
      "# in treepm.subhalo_io.Treepm():\n",
      "  read /data1/arwetzel/lcdm250/snapshot.txt\n",
      "  read  5407196 subhalo from subhalo_tree_01.dat\n",
      "  read  5485481 subhalo from subhalo_tree_02.dat\n",
      "  read  5517336 subhalo from subhalo_tree_03.dat\n",
      "  read  5548084 subhalo from subhalo_tree_04.dat\n",
      "  read  5583078 subhalo from subhalo_tree_05.dat\n",
      "  read  5615345 subhalo from subhalo_tree_06.dat\n",
      "  read  5650410 subhalo from subhalo_tree_07.dat\n",
      "  read  5682696 subhalo from subhalo_tree_08.dat\n",
      "  read  5715688 subhalo from subhalo_tree_09.dat\n",
      "  read  5748795 subhalo from subhalo_tree_10.dat\n",
      "  read  5779167 subhalo from subhalo_tree_11.dat\n",
      "  read  5805949 subhalo from subhalo_tree_12.dat\n",
      "  read  5824060 subhalo from subhalo_tree_13.dat\n",
      "  read  5837797 subhalo from subhalo_tree_14.dat\n",
      "  read  5841491 subhalo from subhalo_tree_15.dat\n",
      "  read  5836226 subhalo from subhalo_tree_16.dat\n",
      "  read  5823060 subhalo from subhalo_tree_17.dat\n",
      "  read  5795900 subhalo from subhalo_tree_18.dat\n",
      "  read  5753867 subhalo from subhalo_tree_19.dat\n",
      "  read  5697344 subhalo from subhalo_tree_20.dat\n",
      "Box Length 357.142863225\n",
      "Box Hubble 0.7\n",
      "0.920929627851  of subhalos have matches\n",
      "0.887658409275  of subhalos have matches\n",
      "0.859737653305  of subhalos have matches\n",
      "0.835911810854  of subhalos have matches\n",
      "0.814345549893  of subhalos have matches\n",
      "0.793550113589  of subhalos have matches\n",
      "0.773185399605  of subhalos have matches\n",
      "0.752893551482  of subhalos have matches\n",
      "0.732432299476  of subhalos have matches\n",
      "0.711677364756  of subhalos have matches\n",
      "0.69038573782  of subhalos have matches\n",
      "0.668393932826  of subhalos have matches\n",
      "0.645801261874  of subhalos have matches\n",
      "0.622589600969  of subhalos have matches\n",
      "0.598477473352  of subhalos have matches\n",
      "0.573822735481  of subhalos have matches\n",
      "0.548460976817  of subhalos have matches\n",
      "0.522477454119  of subhalos have matches\n",
      "0.49607652469  of subhalos have matches\n"
     ]
    }
   ],
   "source": [
    "subhist.Build()"
   ]
  },
  {
   "cell_type": "code",
   "execution_count": 5,
   "metadata": {
    "collapsed": false
   },
   "outputs": [
    {
     "name": "stdout",
     "output_type": "stream",
     "text": [
      "0.49607652469  of the subhalos \n",
      "at nsnap = 1 has matches throughout\n",
      "---\n",
      "0.984198204081  of the subhalos with M*_sham > 9. \n",
      "at nsnap = 1 has matches throughout\n"
     ]
    }
   ],
   "source": [
    "subhist._CheckHistory()"
   ]
  },
  {
   "cell_type": "markdown",
   "metadata": {},
   "source": [
    "# generate central subhalo accretion history catalogs"
   ]
  },
  {
   "cell_type": "code",
   "execution_count": 8,
   "metadata": {
    "collapsed": false
   },
   "outputs": [],
   "source": [
    "censub = Cat.PureCentralHistory(sigma_smhm=sig, smf_source=smf, nsnap_ancestor=nsnap0)"
   ]
  },
  {
   "cell_type": "code",
   "execution_count": 9,
   "metadata": {
    "collapsed": false
   },
   "outputs": [
    {
     "name": "stdout",
     "output_type": "stream",
     "text": [
      "3887158  of 5407196  subhalos at nsnap=1 are pure centrals\n",
      "1556958  of 3887158  central subhalos at nsnap=1 are pure (central throughout)\n",
      "0.879953715851  central subhalos w/ M* > 9. at nsnap=1 are pure throughout z < 1\n",
      "0.884057770618  central subhalos w/ M* > 9.5 at nsnap=1 are pure throughout z < 1\n",
      "writing to ...  /home/users/hahn/projects/centralMS/dat/PureCentralHistory.sigma_SMHM0.0.smf_li-march.Anc_nsnap20.hdf5\n"
     ]
    }
   ],
   "source": [
    "censub.Build()"
   ]
  },
  {
   "cell_type": "code",
   "execution_count": 10,
   "metadata": {
    "collapsed": false
   },
   "outputs": [
    {
     "name": "stdout",
     "output_type": "stream",
     "text": [
      "9.99479 15.4618\n",
      "downsampled by  33 x\n",
      "writing to ...  /home/users/hahn/projects/centralMS/dat/PureCentralHistory.sigma_SMHM0.0.smf_li-march.Anc_nsnap20.down33x.hdf5\n"
     ]
    }
   ],
   "source": [
    "censub.Downsample()"
   ]
  },
  {
   "cell_type": "code",
   "execution_count": null,
   "metadata": {
    "collapsed": true
   },
   "outputs": [],
   "source": []
  }
 ],
 "metadata": {
  "kernelspec": {
   "display_name": "Python 2",
   "language": "python",
   "name": "python2"
  },
  "language_info": {
   "codemirror_mode": {
    "name": "ipython",
    "version": 2
   },
   "file_extension": ".py",
   "mimetype": "text/x-python",
   "name": "python",
   "nbconvert_exporter": "python",
   "pygments_lexer": "ipython2",
   "version": "2.7.11"
  }
 },
 "nbformat": 4,
 "nbformat_minor": 2
}
