{
 "cells": [
  {
   "cell_type": "code",
   "execution_count": 1,
   "metadata": {},
   "outputs": [],
   "source": [
    "from centralms import util as UT"
   ]
  },
  {
   "cell_type": "code",
   "execution_count": 10,
   "metadata": {},
   "outputs": [],
   "source": [
    "import matplotlib as mpl \n",
    "import matplotlib.pyplot as pl \n",
    "mpl.rcParams['text.usetex'] = True\n",
    "mpl.rcParams['font.family'] = 'serif'\n",
    "mpl.rcParams['axes.linewidth'] = 1.5\n",
    "mpl.rcParams['axes.xmargin'] = 1\n",
    "mpl.rcParams['xtick.labelsize'] = 'x-large'\n",
    "mpl.rcParams['xtick.major.size'] = 5\n",
    "mpl.rcParams['xtick.major.width'] = 1.5\n",
    "mpl.rcParams['ytick.labelsize'] = 'x-large'\n",
    "mpl.rcParams['ytick.major.size'] = 5\n",
    "mpl.rcParams['ytick.major.width'] = 1.5\n",
    "mpl.rcParams['legend.frameon'] = False\n",
    "%matplotlib inline"
   ]
  },
  {
   "cell_type": "code",
   "execution_count": 2,
   "metadata": {},
   "outputs": [],
   "source": [
    "zt = UT.zt_table()"
   ]
  },
  {
   "cell_type": "code",
   "execution_count": 9,
   "metadata": {},
   "outputs": [
    {
     "name": "stdout",
     "output_type": "stream",
     "text": [
      "13.8099 2.6631122173\n",
      "13.1328 2.47446574482\n",
      "12.4724 2.29955780354\n",
      "11.8271 2.13683197904\n",
      "11.198 1.985555214\n",
      "10.5893 1.84523681006\n",
      "9.9988 1.71454603329\n",
      "9.4289 1.59314091018\n",
      "8.8783 1.48014779015\n",
      "8.3525 1.37564525218\n",
      "7.8464 1.27817027286\n",
      "7.3635 1.18761963276\n",
      "6.9048 1.10377088531\n",
      "6.4665 1.02550570353\n",
      "6.0513 0.952892988371\n",
      "5.6597 0.885649223486\n",
      "5.2873 0.822733055177\n",
      "4.9378 0.764576823747\n",
      "4.608 0.710438498129\n",
      "4.298 0.660127974037\n",
      "4.0079 0.613510719294\n",
      "3.7343 0.569954328777\n",
      "3.4802 0.529825304669\n",
      "3.2408 0.49227063441\n",
      "3.0172 0.457442421147\n",
      "2.8078 0.424974351751\n",
      "2.6136 0.394991634723\n",
      "2.4315 0.367005618418\n",
      "2.2611 0.340911259181\n",
      "2.1035 0.316846939752\n",
      "1.9569 0.294516644444\n",
      "1.8198 0.27367950655\n",
      "1.6918 0.254269533204\n"
     ]
    }
   ],
   "source": [
    "for isnap in np.arange(len(zt[0])): \n",
    "    print UT.t_nsnap(isnap), UT.tdyn_nsnap(isnap)"
   ]
  },
  {
   "cell_type": "code",
   "execution_count": 17,
   "metadata": {},
   "outputs": [],
   "source": [
    "tnsnaps = np.array([UT.t_nsnap(isnap) for isnap in np.arange(len(zt[0]))])\n",
    "tdyns = np.array([UT.tdyn_nsnap(isnap) for isnap in np.arange(len(zt[0]))])"
   ]
  },
  {
   "cell_type": "code",
   "execution_count": 19,
   "metadata": {},
   "outputs": [
    {
     "data": {
      "text/plain": [
       "(0.0, 14.0)"
      ]
     },
     "execution_count": 19,
     "metadata": {},
     "output_type": "execute_result"
    },
    {
     "data": {
      "image/png": "[encoded data removed]",
      "text/plain": [
       "<Figure size 432x288 with 1 Axes>"
      ]
     },
     "metadata": {},
     "output_type": "display_data"
    }
   ],
   "source": [
    "fig = plt.figure()\n",
    "sub = fig.add_subplot(111)\n",
    "sub.scatter(tnsnaps, tdyns, s=10)\n",
    "sub.set_xlim([0., 14.])"
   ]
  },
  {
   "cell_type": "code",
   "execution_count": 22,
   "metadata": {},
   "outputs": [],
   "source": [
    "coeff = np.polyfit(tnsnaps, tdyns, 6)"
   ]
  },
  {
   "cell_type": "code",
   "execution_count": 25,
   "metadata": {},
   "outputs": [
    {
     "name": "stdout",
     "output_type": "stream",
     "text": [
      "[ 9.29206984e-09 -3.11237220e-07  6.89619438e-06  1.49737134e-04\n",
      "  2.60164944e-04  1.49149975e-01  4.31546682e-04]\n"
     ]
    }
   ],
   "source": [
    "print coeff"
   ]
  },
  {
   "cell_type": "code",
   "execution_count": 24,
   "metadata": {},
   "outputs": [
    {
     "name": "stderr",
     "output_type": "stream",
     "text": [
      "/Users/chang/anaconda2/lib/python2.7/site-packages/ipykernel_launcher.py:4: DeprecationWarning: object of type <type 'float'> cannot be safely interpreted as an integer.\n",
      "  after removing the cwd from sys.path.\n"
     ]
    },
    {
     "data": {
      "text/plain": [
       "(0.0, 14.0)"
      ]
     },
     "execution_count": 24,
     "metadata": {},
     "output_type": "execute_result"
    },
    {
     "data": {
      "image/png": "[encoded data removed]",
      "text/plain": [
       "<Figure size 432x288 with 1 Axes>"
      ]
     },
     "metadata": {},
     "output_type": "display_data"
    }
   ],
   "source": [
    "fig = plt.figure()\n",
    "sub = fig.add_subplot(111)\n",
    "sub.scatter(tnsnaps, tdyns, s=10)\n",
    "tarr = np.linspace(0., 14., 100.)\n",
    "tdyn_t = np.poly1d(coeff)\n",
    "sub.plot(tarr, tdyn_t(tarr), c='k', ls='--')\n",
    "sub.set_xlim([0., 14.])"
   ]
  },
  {
   "cell_type": "code",
   "execution_count": null,
   "metadata": {},
   "outputs": [],
   "source": []
  }
 ],
 "metadata": {
  "kernelspec": {
   "display_name": "Python 2",
   "language": "python",
   "name": "python2"
  },
  "language_info": {
   "codemirror_mode": {
    "name": "ipython",
    "version": 2
   },
   "file_extension": ".py",
   "mimetype": "text/x-python",
   "name": "python",
   "nbconvert_exporter": "python",
   "pygments_lexer": "ipython2",
   "version": "2.7.14"
  }
 },
 "nbformat": 4,
 "nbformat_minor": 2
}
